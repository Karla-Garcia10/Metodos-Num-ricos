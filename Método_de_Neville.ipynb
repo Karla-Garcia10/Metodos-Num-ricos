{
  "nbformat": 4,
  "nbformat_minor": 0,
  "metadata": {
    "colab": {
      "provenance": []
    },
    "kernelspec": {
      "name": "python3",
      "display_name": "Python 3"
    },
    "language_info": {
      "name": "python"
    }
  },
  "cells": [
    {
      "cell_type": "code",
      "source": [
        "from tabulate import tabulate\n",
        "cabecera, pr1, Q0 = {},[], {}\n",
        "n = int(input(\"¿Cuántos datos ingresará?: \"))\n",
        "\n",
        "for j in range(n):\n",
        "  ele1 = float(input(f'Ingrese el valor de x{j}:  '))\n",
        "  pr1.append(ele1) #valores de x\n",
        "  ele2 = float(input(f'Ingrese el valor de fx{j}:  '))\n",
        "  Q0[f'Q_{j},0']= ele2 #valores de Q 0,0\n",
        "  cabecera[f'Q{j}'] = 0\n",
        "\n",
        "cabecera['Q0'] = Q0\n",
        "\n",
        "num = float(input(\"¿Qué valor desea aproximar?: \"))\n",
        "\n",
        "def Q(k):\n",
        "  valores = list(Q0.values())\n",
        "  P = {}\n",
        "  for z in range(n-k):\n",
        "    nume = (num - pr1[z])*valores[z+1]-(num-pr1[z+1])*valores[z]\n",
        "    den = pr1[z+1]-pr1[z]\n",
        "    P[f'Q_{k+z},{k}'] = nume/den\n",
        "  return P\n",
        "\n",
        "for i in range(n-1):\n",
        "  H = Q(i+1)\n",
        "  cabecera[f'Q{i+1}'] = H\n",
        "\n",
        "titulo = list(cabecera.keys())\n",
        "lista1 = list(cabecera.values())\n",
        "print(tabulate(lista1))\n",
        "\n",
        "#Ejemplo 3.6 del libro"
      ],
      "metadata": {
        "id": "qNda7jMt1jT0",
        "colab": {
          "base_uri": "https://localhost:8080/"
        },
        "outputId": "51cd9f2f-2e2c-435b-f9f5-b5daef976b1b"
      },
      "execution_count": null,
      "outputs": [
        {
          "output_type": "stream",
          "name": "stdout",
          "text": [
            "¿Cuántos datos ingresará?: 5\n",
            "Ingrese el valor de x0:  1.0\n",
            "Ingrese el valor de fx0:  0.7651977\n",
            "Ingrese el valor de x1:  1.3\n",
            "Ingrese el valor de fx1:  0.6200860\n",
            "Ingrese el valor de x2:  1.6\n",
            "Ingrese el valor de fx2:  0.4554022\n",
            "Ingrese el valor de x3:  1.9\n",
            "Ingrese el valor de fx3:  0.2818186\n",
            "Ingrese el valor de x4:  2.2\n",
            "Ingrese el valor de fx4:  0.1103623\n",
            "¿Qué valor desea aproximar?: 1.5\n",
            "--------  --------  --------  --------  --------  --------  --------  --------  --------  --------  --------  --------  --------  --------  --------\n",
            "0.765198  0.620086  0.455402  0.281819  0.110362\n",
            "                                                  0.523345  0.510297  0.513263  0.510427\n",
            "                                                                                          0.523345  0.510297  0.513263\n",
            "                                                                                                                        0.523345  0.510297\n",
            "                                                                                                                                            0.523345\n",
            "--------  --------  --------  --------  --------  --------  --------  --------  --------  --------  --------  --------  --------  --------  --------\n"
          ]
        }
      ]
    }
  ]
}