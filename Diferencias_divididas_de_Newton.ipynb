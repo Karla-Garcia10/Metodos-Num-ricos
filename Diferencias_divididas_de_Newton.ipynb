{
  "nbformat": 4,
  "nbformat_minor": 0,
  "metadata": {
    "colab": {
      "provenance": []
    },
    "kernelspec": {
      "name": "python3",
      "display_name": "Python 3"
    },
    "language_info": {
      "name": "python"
    }
  },
  "cells": [
    {
      "cell_type": "code",
      "source": [
        "from tabulate import tabulate\n",
        "cabecera = [\"#\",\"  x \",\"  fx  \"]\n",
        "n = int(input(\"¿Cuántos datos ingresará?: \"))\n",
        "sup = []\n",
        "for j in range(n):\n",
        "  pr1 = []\n",
        "  ele1 = float(input(f'Ingrese el valor de x{j}:  '))\n",
        "  pr1.append(ele1)\n",
        "  ele2 = float(input(f'Ingrese el valor de fx{j}:  '))\n",
        "  pr1.append(ele2)\n",
        "  sup.append(pr1)\n",
        "\n",
        "\n",
        "for i in range(1,n): #Diferencias divididas\n",
        "  cabecera.append(f'Diferencias {i}')\n",
        "  for j in range(i):\n",
        "    num = sup[i][j+1]-sup[i-1][j+1]\n",
        "    den = sup[i][0]-sup[i-j-1][0]\n",
        "    añadir = num/den\n",
        "    sup[i].append(añadir)\n",
        "\n",
        "from tabulate import tabulate#tabla\n",
        "print(tabulate(sup, headers = cabecera, showindex=True ))\n",
        "\n",
        "#Ejemplo 3.11 del libro"
      ],
      "metadata": {
        "colab": {
          "base_uri": "https://localhost:8080/"
        },
        "id": "LJgXrlqS49Mc",
        "outputId": "eda1b912-51dd-49b8-dce2-959bcca01922"
      },
      "execution_count": 4,
      "outputs": [
        {
          "output_type": "stream",
          "name": "stdout",
          "text": [
            "¿Cuántos datos ingresará?: 5\n",
            "Ingrese el valor de x0:  1.0\n",
            "Ingrese el valor de fx0:  0.7651977\n",
            "Ingrese el valor de x1:  1.3\n",
            "Ingrese el valor de fx1:  0.6200860\n",
            "Ingrese el valor de x2:  1.6\n",
            "Ingrese el valor de fx2:  0.4554022\n",
            "Ingrese el valor de x3:  1.9\n",
            "Ingrese el valor de fx3:  0.2818186\n",
            "Ingrese el valor de x4:  2.2\n",
            "Ingrese el valor de fx4:  .1103623\n",
            "  #    x      fx      Diferencias 1    Diferencias 2    Diferencias 3    Diferencias 4\n",
            "---  ---  --------  ---------------  ---------------  ---------------  ---------------\n",
            "  0  1    0.765198\n",
            "  1  1.3  0.620086        -0.483706\n",
            "  2  1.6  0.455402        -0.548946       -0.108734\n",
            "  3  1.9  0.281819        -0.578612       -0.0494433        0.0658784\n",
            "  4  2.2  0.110362        -0.571521        0.0118183        0.0680685        0.0018251\n"
          ]
        }
      ]
    }
  ]
}