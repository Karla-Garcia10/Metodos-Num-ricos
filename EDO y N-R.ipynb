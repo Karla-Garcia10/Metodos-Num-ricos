{
  "nbformat": 4,
  "nbformat_minor": 0,
  "metadata": {
    "colab": {
      "provenance": []
    },
    "kernelspec": {
      "name": "python3",
      "display_name": "Python 3"
    },
    "language_info": {
      "name": "python"
    }
  },
  "cells": [
    {
      "cell_type": "markdown",
      "source": [
        "###Ejercicio 1\n",
        "a)"
      ],
      "metadata": {
        "id": "6wYAn17vd5bv"
      }
    },
    {
      "cell_type": "markdown",
      "source": [
        "\n",
        "Si en el instante en que fueron detenidos los sospechosos la temperatura x del\n",
        "cuerpo del jabalí era igual a 31°C y pasada una hora era igual a 29°C, entonces,\n",
        "considerando que en el instante del disparo x = 37°C y a = 21°C, y tomando el\n",
        "instante del arresto como t = 0, determinar el momento del disparo.\n"
      ],
      "metadata": {
        "id": "QH9ZSD8Gd2Jd"
      }
    },
    {
      "cell_type": "markdown",
      "source": [
        "\n",
        "\n",
        "\n",
        "Primero resolvemos la ecuación diferencial:\n",
        "\n",
        "$\\frac{dx}{dt} = k(x-a)$\n",
        "\n",
        "por el método de variables separables, dandonos como resultado lo siguiente:\n",
        "\n",
        "$x = Ce^{kt}+a$\n",
        "\n",
        "Para encontrar los valores de k y C, sustituimos los valores que conocemos, es decir:\n",
        "\n",
        "$x = 31°C, t = 0, a = 21°C$\n",
        "\n",
        "$x = 29°C, t = 60, a = 21°C$\n",
        "\n",
        "Para $x(0)$, despejamos la variable C, y resulta $C = 10$, mientras que para $x(60)$, con el valor anteriormente calculado de C y sustituyendo, tenemos $K = -0.003719$\n",
        "\n",
        "Finalmente para determinar el momento del disparo, sustituimos los valores de k y C, para una temperatura de $37°C$ y despejamos el tiempo:\n",
        "\n",
        "$37°C = 10e^{-.003719t}+21°C$, dándonos como resultado en minutos 126.38, es decir el momento del disparo habría ocurrido  2.1063 horas antes de la detención de los sospechosos.\n",
        "\n",
        "\n",
        "\n",
        "\n",
        "\n",
        "\n",
        "\n"
      ],
      "metadata": {
        "id": "cPXv_xzHeNqU"
      }
    },
    {
      "cell_type": "markdown",
      "source": [
        "### b)"
      ],
      "metadata": {
        "id": "pLBVTwBJn5ES"
      }
    },
    {
      "cell_type": "markdown",
      "source": [
        "En el caso cuando la temperatura del aire varía con el tiempo, la ley de enfria-\n",
        "miento del cuerpo se convierte en la ecuación diferencial lineal no homogénea. Resolovemos la ecuación diferencial\n",
        "$\\frac{dx}{dt} = k(x-a(t)), a(t) = t*-t$\n",
        "\n",
        "aplicando la formula de factor integrante:\n",
        "\n",
        "$ce^{-A(t)}+e^{-A(t)}\\int _0^{t}e^{A(x)}(x*-x)dx$, tenemos que\n",
        "\n",
        "$x = ce^{-kt}+t*-t$, ahora para encontrar el valor de la constante c, utilizamos el valor inicial que nos proporciona el probelma, es decir $x(0) = 37°C$, por lo que la solución de la ecuación diferencial quedraía como:\n",
        "$x = (37-t*)e^{-kt}+t*-t$"
      ],
      "metadata": {
        "id": "yNdAeMWrvkYb"
      }
    },
    {
      "cell_type": "markdown",
      "source": [
        "Ahora consideramos las siguientes variables:\n",
        "\n",
        "t* = instante en que los guardabosques descubren el cadáver\n",
        "\n",
        "Plantearemos una primera ecuación según los datos del problema, en el instante de la deteción de los sospechosos, la temperatura del cuerpo del jabalí era igual a 30°C, pero seún el planteamiento del problema, había pasado un tiempo entre el instante en que los guardabosques descubren el cádaver y el momento en que aparecieron los sospechos, si este dato nos trae problemas , mas adelante lo tomaremos insignificante, entonces, tenemos:\n",
        "\n",
        "$x = 30°C, t = t*+w$, w = el tiempo en que tardan en llegar los sospechosos después de que fuera descubierto el cádaver por los guardabosques$\n",
        "\n",
        "Susituyendo.\n",
        "\n",
        "$(37°C-t*)e^{-k(t*+w)}-w = 30°C$ ...  (1)\n",
        "\n",
        "La siguiente parte del planteamiento, nos indica que al alcabo de una hora  de ser detectado el cadáver , su temperatura bajo a 25°C, tenemos:\n",
        "\n",
        "$x = 25°C, t = t*+ 60 minutos$\n",
        "\n",
        "Sustituendo:\n",
        "\n",
        "$(37°C-t*)e^{-k(t*+60)}= 85$ ...  (2)\n",
        "\n",
        "Despejando de la ecuación (1), tenemos que: $(37°C-t*)e^{-kt*}= \\frac{30+w}{e^{-kw}}$, y ahora sustituyendo en (2), tenemos  $(30+w)e^{k(w-60)} -85 = 0$\n",
        "\n",
        "Si hacemos w = 0, y resolvemos para k, tenemos, que:\n",
        "\n",
        "k = 0.01735\n"
      ],
      "metadata": {
        "id": "DIVJFaca225H"
      }
    },
    {
      "cell_type": "markdown",
      "source": [
        "A continuación se resuleve la EDO, considerando t* como el instante de la detención del cadáver y asumiendo que la temperatura corporal del jabalí era de 37°C, sustitutimos y tenemos, la ecuación:\n",
        "\n",
        "$(30)e^{-0.01735t}-t= 37°C$\n",
        "\n",
        "y su derivada:\n",
        "\n",
        "$0.6419e^{-0.01735t}-1= 0$\n",
        "\n",
        "Y ahora utilizamos el método de Newton-Raphson, para aporoximar el valor de t"
      ],
      "metadata": {
        "id": "qJD3gHk5LAYV"
      }
    },
    {
      "cell_type": "code",
      "source": [
        "import numpy as np\n",
        "def ff(x):\n",
        "  return -.5205*np.exp(-0.017535*x) -1\n",
        "def f1(x):\n",
        "  return 30*np.exp(-0.01735*x) -x-37\n",
        "\n",
        "xa = 0\n",
        "xb = 1\n",
        "if ff(xa) != 0 and ff(xb) !=0:\n",
        "  En, j, xan, xbn, Errorn = 100, 0, 0, 1, [100]\n",
        "  p = (xan + xbn)/2\n",
        "  print(\"# Iteración \\t P \\t\\t\\t %Error\")\n",
        "  print(\"{0} \\t\\t {1:6.4f} \\t\\t {2:6.4f}\".format(j, p , En))\n",
        "  while En > .0001:\n",
        "    p1 = p - (f1(p)/ff(p))\n",
        "    En = abs(p1 -p)\n",
        "    Errorn.append(round(En*100,3))\n",
        "    p = p1\n",
        "    j += 1\n",
        "    print(\"{0} \\t\\t {1:6.4f} \\t\\t {2:6.4f}\".format(j, p , En))\n",
        "\n",
        "print(f'La raíz en el intervalo [{xan} , {xbn}] es {p}')"
      ],
      "metadata": {
        "colab": {
          "base_uri": "https://localhost:8080/"
        },
        "id": "AiFgR4hRL8jm",
        "outputId": "7973d7fd-d9a5-4a4d-ab6b-1d6297f97cf6"
      },
      "execution_count": 1,
      "outputs": [
        {
          "output_type": "stream",
          "name": "stdout",
          "text": [
            "# Iteración \t P \t\t\t %Error\n",
            "0 \t\t 0.5000 \t\t 100.0000\n",
            "1 \t\t -4.6183 \t\t 5.1183\n",
            "2 \t\t -4.5409 \t\t 0.0774\n",
            "3 \t\t -4.5409 \t\t 0.0000\n",
            "La raíz en el intervalo [0 , 1] es -4.540875896596702\n"
          ]
        }
      ]
    },
    {
      "cell_type": "markdown",
      "source": [
        "Entonces **t = 4.5408 horas**, es el momento aproximado en el que murió el jabalí, antes de que los guardabosques lo encontrarán."
      ],
      "metadata": {
        "id": "34LEVme6MB25"
      }
    }
  ]
}