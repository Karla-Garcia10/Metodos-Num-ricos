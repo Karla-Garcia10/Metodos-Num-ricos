{
  "nbformat": 4,
  "nbformat_minor": 0,
  "metadata": {
    "colab": {
      "provenance": []
    },
    "kernelspec": {
      "name": "python3",
      "display_name": "Python 3"
    },
    "language_info": {
      "name": "python"
    }
  },
  "cells": [
    {
      "cell_type": "markdown",
      "source": [
        "##Ejercicio 1\n"
      ],
      "metadata": {
        "id": "E3hHcHNRV0Dh"
      }
    },
    {
      "cell_type": "code",
      "source": [
        "import matplotlib.pyplot as plt\n",
        "import math as mt\n",
        "import numpy as np\n",
        "x = np.linspace(-2, 1,10)\n",
        "fig, ax = plt.subplots(figsize = (6,6))\n",
        "ax.plot(x, np.cos(x)-x*np.exp(x),'b-o', label = '10**x - x - 4', linewidth = 2)\n",
        "ax.axhline(0, color=\"gray\")\n",
        "ax.axvline(0, color=\"gray\")\n",
        "ax.set_title(\"Función 1\")\n",
        "plt.savefig(\"output.png\") # Guardar gráfico como imágen PNG.\n",
        "ax.grid(True)\n",
        "plt.show()"
      ],
      "metadata": {
        "colab": {
          "base_uri": "https://localhost:8080/",
          "height": 390
        },
        "id": "P8TklYxgVxhU",
        "outputId": "938c7802-0842-4794-ba52-5759707e980e"
      },
      "execution_count": 37,
      "outputs": [
        {
          "output_type": "display_data",
          "data": {
            "text/plain": [
              "<Figure size 432x432 with 1 Axes>"
            ],
            "image/png": "[encoded data removed]"
          },
          "metadata": {
            "needs_background": "light"
          }
        }
      ]
    },
    {
      "cell_type": "markdown",
      "source": [
        "##Ejercicio 2\n"
      ],
      "metadata": {
        "id": "73FRRPlIQkV6"
      }
    },
    {
      "cell_type": "code",
      "source": [
        "import matplotlib.pyplot as plt\n",
        "import math as mt\n",
        "import numpy as np\n",
        "def f1(x):\n",
        "    return 10**x - x - 4\n",
        "\n",
        "def f2(x):\n",
        "  return x**3 + 4*x**2 -10\n",
        "xa = .1\n",
        "xb = 1\n",
        "E = 100\n",
        "while E > .01:\n",
        "  xr = (xb+xa)/2\n",
        "  fa = f1(xa)\n",
        "  fr = f1(xr)\n",
        "  if fa*fr > 0:\n",
        "    E = (xa-xr)/xa\n",
        "    if E < 0:\n",
        "        E = -E\n",
        "    xa = xr\n",
        "  elif fa*fr < 0:\n",
        "    E= (xb-xr)/xb\n",
        "    if E < 0:\n",
        "        E = -E\n",
        "    xb = xr\n",
        "print(f'La raíz en el intervalo [0,1] es {round(xr,2)}')"
      ],
      "metadata": {
        "colab": {
          "base_uri": "https://localhost:8080/"
        },
        "id": "bQvObfRGticC",
        "outputId": "540758ab-7dc1-4e3d-f606-a56368a7e0b0"
      },
      "execution_count": 106,
      "outputs": [
        {
          "output_type": "stream",
          "name": "stdout",
          "text": [
            "La raíz en e intervalo [0,1] es 0.67\n"
          ]
        }
      ]
    },
    {
      "cell_type": "code",
      "execution_count": 40,
      "metadata": {
        "colab": {
          "base_uri": "https://localhost:8080/",
          "height": 390
        },
        "id": "YCvAylEJNe8U",
        "outputId": "f04dfa0d-07d0-4690-b05a-cfe1bdc61bb2"
      },
      "outputs": [
        {
          "output_type": "display_data",
          "data": {
            "text/plain": [
              "<Figure size 432x432 with 1 Axes>"
            ],
            "image/png": "[encoded data removed]"
          },
          "metadata": {
            "needs_background": "light"
          }
        }
      ],
      "source": [
        "import matplotlib.pyplot as plt\n",
        "import numpy as np\n",
        "def f1(x):\n",
        "    return 10**x - x - 4\n",
        "x=np.linspace(-4, 1, 10)\n",
        "fig, ax = plt.subplots(figsize = (6,6))\n",
        "ax.plot(x, [f1(i) for i in x],'m-', label = '10**x - x - 4', linewidth = 2)\n",
        "ax.axhline(0, color=\"gray\")\n",
        "ax.axvline(0, color=\"gray\")\n",
        "ax.set_title(\"Función 2\")\n",
        "plt.xlim(-4,3)\n",
        "plt.ylim(-4,5)\n",
        "plt.savefig(\"output.png\")\n",
        "ax.grid(True)\n",
        "plt.show()"
      ]
    },
    {
      "cell_type": "markdown",
      "source": [
        "##Ejercicio3:"
      ],
      "metadata": {
        "id": "51M4QcIcCOUv"
      }
    },
    {
      "cell_type": "code",
      "source": [
        "def f2(x):\n",
        "  return x**3 + 4*x**2 -10\n",
        "def f2(x):\n",
        "  return x**3 + 4*x**2 -10\n",
        "xa = 1\n",
        "xb = 2\n",
        "E = 100\n",
        "while E > .0001:\n",
        "  xr = (xb+xa)/2\n",
        "  fa = f2(xa)\n",
        "  fr = f2(xr)\n",
        "  if fa*fr > 0:\n",
        "    E= (xa-xr)/xa\n",
        "    if E < 0:\n",
        "        E = -E\n",
        "    xa = xr\n",
        "  elif fa*fr < 0:\n",
        "    E= (xb-xr)/xb\n",
        "    if E < 0:\n",
        "        E = -E\n",
        "    xb = xr\n",
        "print(f'La raíz en el intervalo [1,2] es {round(xr,4)}')"
      ],
      "metadata": {
        "colab": {
          "base_uri": "https://localhost:8080/"
        },
        "id": "dgkqLODLCTnQ",
        "outputId": "56ef11fb-9fab-4351-c040-9dac4de3c196"
      },
      "execution_count": 109,
      "outputs": [
        {
          "output_type": "stream",
          "name": "stdout",
          "text": [
            "La raíz en el intervalo [1,2] es 1.3651\n"
          ]
        }
      ]
    },
    {
      "cell_type": "code",
      "source": [
        "import matplotlib.pyplot as plt\n",
        "import numpy as np\n",
        "x = np.linspace(-2, 3,10)\n",
        "fig, ax = plt.subplots(figsize = (6,6))\n",
        "ax.plot(x, x**3 + 4*x**2 -10,'r-o', label = '10**x - x - 4', linewidth = 2)\n",
        "ax.axhline(0, color=\"gray\")\n",
        "ax.axvline(0, color=\"gray\")\n",
        "plt.ylim(-11, 5)\n",
        "ax.set_title(\"Función 3\")\n",
        "plt.savefig(\"output.png\")\n",
        "ax.grid(True)\n",
        "plt.show()"
      ],
      "metadata": {
        "colab": {
          "base_uri": "https://localhost:8080/",
          "height": 390
        },
        "id": "bBh1buxO3BQo",
        "outputId": "ce173ddd-dcfa-440c-feb1-73cb200000ef"
      },
      "execution_count": 113,
      "outputs": [
        {
          "output_type": "display_data",
          "data": {
            "text/plain": [
              "<Figure size 432x432 with 1 Axes>"
            ],
            "image/png": "[encoded data removed]"
          },
          "metadata": {
            "needs_background": "light"
          }
        }
      ]
    }
  ]
}