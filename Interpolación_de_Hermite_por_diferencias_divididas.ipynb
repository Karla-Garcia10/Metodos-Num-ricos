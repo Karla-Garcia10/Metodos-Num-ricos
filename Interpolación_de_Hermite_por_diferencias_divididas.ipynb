{
  "nbformat": 4,
  "nbformat_minor": 0,
  "metadata": {
    "colab": {
      "provenance": []
    },
    "kernelspec": {
      "name": "python3",
      "display_name": "Python 3"
    },
    "language_info": {
      "name": "python"
    }
  },
  "cells": [
    {
      "cell_type": "code",
      "execution_count": 10,
      "metadata": {
        "colab": {
          "base_uri": "https://localhost:8080/"
        },
        "id": "iLKbi4WseArs",
        "outputId": "662fc070-3776-405f-911b-70040a6e753e"
      },
      "outputs": [
        {
          "output_type": "stream",
          "name": "stdout",
          "text": [
            "¿Cuántos datos ingresará?: 3\n",
            "Ingrese el valor de x0:  1.3\n",
            "Ingrese el valor de f(x0):  0.6200860\n",
            "Ingrese el valor de x1:  1.6\n",
            "Ingrese el valor de f(x1):  0.4554022\n",
            "Ingrese el valor de x2:  1.9\n",
            "Ingrese el valor de f(x2):  0.2818186\n",
            "Ingrese el valor de f¹(x0):  -0.5220232\n",
            "Ingrese el valor de f¹(x1):  -0.5698959\n",
            "Ingrese el valor de f¹(x2):  -0.5811571\n",
            "\n",
            "\n",
            "\n",
            "\n",
            "   #       z        f(x)        Diferencias 1     Diferencias 2    Diferencias 2    Diferencias 3    Diferencias 4\n",
            "-----  -------  ----------  ------------------  ---------------  ---------------  ---------------  ---------------\n",
            "    0      1.3    0.620086\n",
            "    1      1.3    0.620086           -0.522023\n",
            "    2      1.6    0.455402           -0.548946       -0.0897427\n",
            "    3      1.6    0.455402           -0.569896       -0.069833         0.0663657\n",
            "    4      1.9    0.281819           -0.578612       -0.0290537        0.0679655        0.0026663\n",
            "    5      1.9    0.281819           -0.581157       -0.0084837        0.0685667        0.001002        -0.0027738\n",
            "\n",
            "\n",
            "\n",
            "\n",
            "El polinomio de Hermite esta representado por: 0.620086 +-0.5220232* (x-1.3) +-0.0897427* (x-1.3) (x-1.3) +0.0663657* (x-1.3) (x-1.3) (x-1.6) +0.0026663* (x-1.3) (x-1.3) (x-1.6) (x-1.6) +-0.0027738* (x-1.3) (x-1.3) (x-1.6) (x-1.6) (x-1.9)\n"
          ]
        }
      ],
      "source": [
        "from tabulate import tabulate\n",
        "cabecera, k = [\" # \",\"  z  \",\"  f(x)  \", \"  Diferencias 1 \"], 0\n",
        "n = int(input(\"¿Cuántos datos ingresará?: \"))\n",
        "sup = []\n",
        "for j in range(n):\n",
        "  pr1 = []\n",
        "  ele1 = float(input(f'Ingrese el valor de x{j}:  '))\n",
        "  pr1.append(ele1)\n",
        "  ele2 = float(input(f'Ingrese el valor de f(x{j}):  '))\n",
        "  pr1.append(ele2)\n",
        "  pr2 = pr1.copy()\n",
        "  sup.append(pr1)\n",
        "  sup.append(pr2)\n",
        "\n",
        "for i in range(1,2*n): #Diferencias divididas\n",
        "  if i == 1:#llenado de la tercera columna\n",
        "    cabecera.append(f'Diferencias {i+1}')\n",
        "    for j in range(2*n-1):\n",
        "        if j % 2 ==  0:\n",
        "            ele3 = float(input(f'Ingrese el valor de f¹(x{k}):  '))\n",
        "            k += 1\n",
        "            sup[j+1].append(ele3)\n",
        "        elif j % 2 !=  0:\n",
        "            num = sup[j+1][1]-sup[j][1]\n",
        "            den = sup[j+1][0]-sup[j][0]\n",
        "            añadir = round(num/den,7)\n",
        "            sup[j+1].append(añadir)\n",
        "  else: #resto de las columnas\n",
        "    cabecera.append(f'Diferencias {i}')\n",
        "    for j in range(i-1):\n",
        "      num = sup[i][j+2]-sup[i-1][j+2]\n",
        "      den = sup[i][0]-sup[i-2-j][0]\n",
        "      añadir = round(num/den,7)\n",
        "      sup[i].append(añadir)\n",
        "\n",
        "H = [f'{sup[0][1]}']#Polinomio de Hermite\n",
        "for m in range(1,2*n):\n",
        "  a = sup[m][m+1]\n",
        "  H.append(f'+{a}*')\n",
        "  for p in range(m):\n",
        "    b = sup[p][0]\n",
        "    H.append(f'(x-{b})')\n",
        "s = ' '.join(H)\n",
        "print(\"\\n\")\n",
        "print(\"\\n\")\n",
        "print(tabulate(sup, headers = cabecera, showindex=True ))#tabla\n",
        "print(\"\\n\")\n",
        "print(\"\\n\")\n",
        "print(f'El polinomio de Hermite esta representado por: {s}')\n",
        "\n",
        "#Ejemplo 2 página 104 del libro (tabla 3.17)"
      ]
    }
  ]
}