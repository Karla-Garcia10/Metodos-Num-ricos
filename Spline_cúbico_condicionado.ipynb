{
  "nbformat": 4,
  "nbformat_minor": 0,
  "metadata": {
    "colab": {
      "provenance": []
    },
    "kernelspec": {
      "name": "python3",
      "display_name": "Python 3"
    },
    "language_info": {
      "name": "python"
    }
  },
  "cells": [
    {
      "cell_type": "code",
      "execution_count": null,
      "metadata": {
        "colab": {
          "base_uri": "https://localhost:8080/"
        },
        "id": "UBWUD86iP8nI",
        "outputId": "846a29e0-d477-4504-f35f-6dded393857d"
      },
      "outputs": [
        {
          "name": "stdout",
          "output_type": "stream",
          "text": [
            "¿Cuántos datos ingresará?: 4\n",
            "Ingrese el valor de x0:  0\n",
            "Ingrese el valor de f(x0):  1\n",
            "Ingrese el valor de f¹(x0):  1\n",
            "Ingrese el valor de x1:  1\n",
            "Ingrese el valor de f(x1):  2.71828\n",
            "Ingrese el valor de x2:  2\n",
            "Ingrese el valor de f(x2):  7.389056\n",
            "Ingrese el valor de x3:  3\n",
            "Ingrese el valor de f(x3):  20.08553\n",
            "Ingrese el valor de f¹(x3):  20.08553\n"
          ]
        }
      ],
      "source": [
        "from numpy.core.multiarray import zeros\n",
        "import numpy as np\n",
        "\n",
        "d = int(input(\"¿Cuántos datos ingresará?: \"))\n",
        "\n",
        "b, A, a, y, h, h2, D, B, deri =  np.zeros((d,1), dtype = np.float32), np.zeros((d,d), dtype = np.float32), [],[],[],[],[],[],[]\n",
        "\n",
        "def funcion(x):#Se define la función\n",
        "  return 1/x\n",
        "\n",
        "for z in range(d):\n",
        "  pr = float(input(f'Ingrese el valor de x{z}:  ')) #Valores de x\n",
        "  y.append(pr)\n",
        "  pr1 = float(input(f'Ingrese el valor de f(x{z}):  ')) #Valores de x en la función\n",
        "  a.append(pr1)\n",
        "  if z == 0 or z == d-1:\n",
        "    pr2 = float(input(f'Ingrese el valor de f¹(x{z}):  ')) #Valores de la derivada de la función\n",
        "    deri.append(pr2)\n",
        "\n",
        "for n in range(len(y)-2): #Diferencias, h\n",
        "  nuevo = []\n",
        "  h0 = y[n+1]-y[n]\n",
        "  h1 = y[n+2]-y[n+1]\n",
        "  nuevo.append(h0)\n",
        "  nuevo.append(2*(h0+h1))\n",
        "  nuevo.append(h1)\n",
        "  h.append(nuevo)\n",
        "\n",
        "for m in range(len(y)-1):#Diferencias h2\n",
        "  h3 = y[m+1]-y[m]\n",
        "  h2.append(h0)\n",
        "\n",
        "p = 1\n",
        "for j in range(d):#Matriz A (llenado)\n",
        "  if j == 0:\n",
        "    A[0][0] = 2*h2[0]\n",
        "    A[0][1] = h2[0]\n",
        "  elif j == 1:\n",
        "    for i in range(j+2):\n",
        "      A[j][i] = h[j-1][i]\n",
        "  elif j == d-1:\n",
        "    A[j][j] = 2*h2[-2]\n",
        "    A[j][j-1] = h2[-2]\n",
        "  else:\n",
        "    for i in range(j+1):\n",
        "      A[j][i+p] = h[j-1][i]\n",
        "    p += 1\n",
        "\n",
        "for k in range(d):#Vector b (llenado)\n",
        "  if k == 0:\n",
        "    sum1 = 3/h2[k]*(a[k+1]-a[k])\n",
        "    sum2 = 3*deri[0]\n",
        "    b[k][0] = sum1-sum2\n",
        "  elif k == d-1 :\n",
        "    sum1 = 3/h2[k-1]*(a[k]-a[k-1])\n",
        "    sum2 = 3*deri[1]\n",
        "    b[k][0] = sum2-sum1\n",
        "  else:\n",
        "    sum1 = 3/h2[k]*(a[k+1]-a[k])\n",
        "    sum2 = 3/h2[k-1]*(a[k]-a[k-1])\n",
        "    b[k][0] = sum1 - sum2\n",
        "\n",
        "x = np.linalg.inv(A)#Valores de c\n",
        "x1 = x.dot(b)\n",
        "\n",
        "for f in range(len(x1)-1): #Calculamos los dj\n",
        "  dj = (x1[f+1][0]-x1[f][0])/3*h2[f]\n",
        "  D.append(dj)\n",
        "\n",
        "for w in range(len(x1)-1): #Calculamos los bj\n",
        "  arr = (a[w+1]-a[w])/h2[w]\n",
        "  aba =(h2[w]) * (x1[w+1][0]+2*x1[w][0])/3\n",
        "  B.append(arr-aba)"
      ]
    },
    {
      "cell_type": "code",
      "source": [
        "print(\"El spline cúbico condicionado se describe por tramos mediante: \")\n",
        "print(\"\\n\")\n",
        "for q in range(d-1):#Spline cubico por partes\n",
        "  Spline = [f'{a[q]}']\n",
        "  Spline.append(f'+ {B[q]} *')\n",
        "  Spline.append(f'(x - {y[q]} )')\n",
        "  Spline.append(f'+ {str(x1[q])} *')\n",
        "  Spline.append(f'(x - {y[q]} )²')\n",
        "  Spline.append(f'+ {D[q]} *')\n",
        "  Spline.append(f'(x - {y[q]} )³')\n",
        "  print(' '.join(Spline))\n",
        "\n",
        "#Ejemplo 2 página 11 del libro"
      ],
      "metadata": {
        "colab": {
          "base_uri": "https://localhost:8080/"
        },
        "id": "tWH5gzfWMQri",
        "outputId": "599ed92d-944a-4f29-a764-64de937e9d4f"
      },
      "execution_count": null,
      "outputs": [
        {
          "output_type": "stream",
          "name": "stdout",
          "text": [
            "El spline cúbico condicionado se describe por tramos mediante: \n",
            "\n",
            "\n",
            "1.0 + 1.000000002492269 * (x - 0.0 ) + [0.44467652] * (x - 0.0 )² + 0.27360347906748456 * (x - 0.0 )³\n",
            "2.71828 + 2.710163543996175 * (x - 1.0 ) + [1.265487] * (x - 1.0 )² + 0.6951255003611246 * (x - 1.0 )³\n",
            "7.389056 + 7.326514486653644 * (x - 2.0 ) + [3.3508635] * (x - 2.0 )² + 2.01909605662028 * (x - 2.0 )³\n"
          ]
        }
      ]
    }
  ]
}