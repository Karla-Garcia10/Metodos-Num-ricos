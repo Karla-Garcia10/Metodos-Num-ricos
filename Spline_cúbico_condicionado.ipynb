{
  "nbformat": 4,
  "nbformat_minor": 0,
  "metadata": {
    "colab": {
      "provenance": []
    },
    "kernelspec": {
      "name": "python3",
      "display_name": "Python 3"
    },
    "language_info": {
      "name": "python"
    }
  },
  "cells": [
    {
      "cell_type": "code",
      "execution_count": 3,
      "metadata": {
        "id": "v48vm6cKTFLr",
        "colab": {
          "base_uri": "https://localhost:8080/"
        },
        "outputId": "fb834ea5-c1d9-4362-9a01-c17a7f4b1abe"
      },
      "outputs": [
        {
          "name": "stdout",
          "output_type": "stream",
          "text": [
            "¿Cuántos datos ingresará?: 4\n",
            "Ingrese el valor de x_0: 0\n",
            "ingresa el valor de f(0.0): 1\n",
            "Ingrese el valor de x_1: 1\n",
            "ingresa el valor de f(1.0): 2.71828\n",
            "Ingrese el valor de x_2: 2\n",
            "ingresa el valor de f(2.0): 7.389056\n",
            "Ingrese el valor de x_3: 3\n",
            "ingresa el valor de f(3.0): 20.08553\n",
            "Ingrese el valor de f'(0.0): 1\n",
            "Ingrese el valor de f'(3.0): 20.08553\n"
          ]
        },
        {
          "output_type": "execute_result",
          "data": {
            "text/plain": [
              "1.07742"
            ]
          },
          "metadata": {},
          "execution_count": 3
        }
      ],
      "source": [
        "X, H, alpha, L, mu, Z = [], [], [], [], [], []\n",
        "abcd = {\"a\" : [], \"b\" : [], \"c\" : [], \"d\" : [], }\n",
        "n = int(input(\"¿Cuántos datos ingresará?: \")) - 1\n",
        "for i in range(n + 1):\n",
        "  X.append(float(input(f\"Ingrese el valor de x_{i}: \")))#Valores de x\n",
        "  abcd[\"a\"].append(float(input(f\"ingresa el valor de f({X[i]}): \")))#Valores de x en la función dada\n",
        "  alpha.append(0)\n",
        "  abcd[\"c\"].append(0)\n",
        "\n",
        "FPO = float(input(f\"Ingrese el valor de f'({X[0]}): \"))\n",
        "FPN = float(input(f\"Ingrese el valor de f'({X[n]}): \"))\n",
        "\n",
        "for i in range(n):\n",
        "  H.append(X[i + 1] - X[i])\n",
        "\n",
        "alpha[0] = 3 * (abcd[\"a\"][1] - abcd[\"a\"][0]) / H[0] - 3 * FPO\n",
        "alpha[n] = 3 * FPN - 3 * (abcd[\"a\"][n] - abcd[\"a\"][n - 1]) / H[n - 1]\n",
        "\n",
        "for i in range(1, n):\n",
        "  alpha[i] = 3 * (abcd[\"a\"][i + 1] - abcd[\"a\"][i]) / H[i] - 3 * (abcd[\"a\"][i] - abcd[\"a\"][i - 1]) / H[i - 1]\n",
        "\n",
        "L.append(2 * H[0])\n",
        "mu.append(0.5)\n",
        "Z.append(alpha[0] / L[0])\n",
        "\n",
        "for i in range(1, n):\n",
        "  L.append(2 * (X[i + 1] - X[i - 1]) - H[i - 1] * mu[i - 1])\n",
        "  mu.append(H[i] / L[i])\n",
        "  Z.append((alpha[i] - H[i - 1] * Z[i - 1]) / L[i])\n",
        "\n",
        "L.append(H[n - 1] * (2 - mu[n - 1]))\n",
        "Z.append((alpha[n] - H[n - 1] * Z[n - 1]) / L[n])\n",
        "abcd[\"c\"][n] = (Z[n])\n",
        "\n",
        "for j in range(n - 1, -1, -1):\n",
        "  abcd[\"c\"].append(Z[j] - mu[j] * abcd[\"c\"][j + 1])\n",
        "  abcd[\"b\"].append((abcd[\"a\"][j + 1] - abcd[\"a\"][j]) / H[j] - H[j] * (abcd[\"c\"][j+1] + 2 * abcd[\"c\"][j]) / 3)\n",
        "  abcd[\"d\"].append((abcd[\"c\"][j + 1] - abcd[\"c\"][j]) / (3 * H[j]))\n",
        "for i in range(2): abcd[\"c\"].remove(0)\n",
        "abcd[\"a\"].pop()\n",
        "abcd[\"c\"].pop()\n"
      ]
    },
    {
      "cell_type": "code",
      "source": [
        "print(\"El spline cúbico condicionado se describe por tramos mediante:\\nS(x) = {\")\n",
        "print(\"\\n\")\n",
        "for i in range(n):#Polinomio de spline cúbico\n",
        "  c = 0\n",
        "  for j in abcd:\n",
        "    print(f\"{abcd[j][i]}x^{c}\", end=\" + \")\n",
        "    c += 1\n",
        "  print(f\" para {X[i]} < x < {X[i + 1]}\")"
      ],
      "metadata": {
        "colab": {
          "base_uri": "https://localhost:8080/"
        },
        "id": "4aDqpAAt3lRF",
        "outputId": "a7847d66-5a1f-4bbe-96c4-29ee00694c1b"
      },
      "execution_count": 4,
      "outputs": [
        {
          "output_type": "stream",
          "name": "stdout",
          "text": [
            "El spline cúbico condicionado se describe por tramos mediante:\n",
            "S(x) = {\n",
            "\n",
            "\n",
            "1.0x^0 + 9.560423288888888x^1 + 0x^2 + 3.1360507111111104x^3 +  para 0.0 < x < 1.0\n",
            "2.71828x^0 + 4.670776x^1 + 9.408152133333331x^2 + 0.0x^3 +  para 1.0 < x < 2.0\n",
            "7.389056x^0 + 1.71828x^1 + 3.350863733333334x^2 + 0.0x^3 +  para 2.0 < x < 3.0\n"
          ]
        }
      ]
    }
  ]
}